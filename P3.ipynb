{
  "nbformat": 4,
  "nbformat_minor": 0,
  "metadata": {
    "colab": {
      "provenance": [],
      "include_colab_link": true
    },
    "kernelspec": {
      "name": "python3",
      "display_name": "Python 3"
    },
    "language_info": {
      "name": "python"
    }
  },
  "cells": [
    {
      "cell_type": "markdown",
      "metadata": {
        "id": "view-in-github",
        "colab_type": "text"
      },
      "source": [
        "<a href=\"https://colab.research.google.com/github/BharathHKrishna/Bharath/blob/main/P3.ipynb\" target=\"_parent\"><img src=\"https://colab.research.google.com/assets/colab-badge.svg\" alt=\"Open In Colab\"/></a>"
      ]
    },
    {
      "cell_type": "code",
      "source": [
        "import tensorflow as tf\n",
        "from tensorflow.keras.utils import image_dataset_from_directory\n",
        "import matplotlib.pyplot as plt\n",
        "\n",
        "# Load dataset and split into training and validation\n",
        "PATH = r\"/content/drive/MyDrive\"\n",
        "ds = image_dataset_from_directory(PATH,\n",
        "                                  validation_split=0.2, subset=\"training\",\n",
        "                                  image_size=(256, 256), seed=42,\n",
        "                                  shuffle=True, batch_size=10)\n",
        "\n",
        "# Define preprocessing and augmentation layers\n",
        "preprocess_layers = tf.keras.Sequential([\n",
        "    tf.keras.layers.Resizing(128, 256),\n",
        "    tf.keras.layers.RandomFlip(\"horizontal_and_vertical\"),\n",
        "    tf.keras.layers.RandomRotation(0.2),\n",
        "    tf.keras.layers.RandomZoom(0.3),\n",
        "    tf.keras.layers.RandomTranslation(0.2, 0.2),\n",
        "    tf.keras.layers.RandomBrightness([-0.8, 0.8]),\n",
        "    tf.keras.layers.RandomContrast(0.2)\n",
        "])\n",
        "\n",
        "# Visualize original and augmented images\n",
        "def visualize_augmentations(dataset):\n",
        "    fig, ax = plt.subplots(3, 3, figsize=(6, 8))\n",
        "\n",
        "    for images, labels in dataset.take(1):\n",
        "        for i in range(3):\n",
        "            # Show original\n",
        "            ax[0][i].imshow(images[i].numpy().astype(\"uint8\"))\n",
        "            ax[0][i].set_title(\"original\")\n",
        "            # Show brightness adjusted\n",
        "            ax[1][i].imshow(preprocess_layers(images[i]).numpy().astype(\"uint8\"))\n",
        "            ax[1][i].set_title(\"augmented\")\n",
        "            # Show contrast adjusted\n",
        "            ax[2][i].imshow(preprocess_layers(images[i]).numpy().astype(\"uint8\"))\n",
        "            ax[2][i].set_title(\"augmented\")\n",
        "\n",
        "    plt.tight_layout()\n",
        "    plt.show()\n",
        "\n",
        "visualize_augmentations(ds)"
      ],
      "metadata": {
        "id": "QCav81Dr9xfQ"
      },
      "execution_count": null,
      "outputs": []
    }
  ]
}